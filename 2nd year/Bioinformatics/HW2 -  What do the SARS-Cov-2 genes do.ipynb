{
 "cells": [
  {
   "cell_type": "markdown",
   "metadata": {},
   "source": [
    "# Homework 2: What do the SARS-Cov-2 genes do?\n",
    "\n",
    "In the first homework, we wrote an algorithm to retrieve ORFs from the SARS-CoV-2 genome. Some retrieved ORFs may correspond to the actual genes, some were there by chance, and some because the start codon also encodes for methionine, so the retrieved ORF was a (short) part of the more extended coding sequence. We used protein hydrophobicity to find potential transmembrane proteins. But what about other types of proteins? How can we tell which ORFs correspond to the actual genes?\n",
    "\n",
    "We will answer the question above in the bioinformatics way and lean to what we know about evolution. If two species are morphologically different, their genetic material must also differ substantially. Right? Not exactly. Evolution conserved many genes crucial for survival. The degree of conservation is surprising. For example, while we would expect to share many genes with the chimpanzee, our closest relative, we would expect almost no similarity in our genetic material with bananas. The numbers tell us otherwise. While sharing 96% of our genes with the chimpanzee, we also share 60% of our genes with bananas! These similar genes in humans and bananas encode proteins that carry similar functions.\n",
    "\n",
    "Two genes with similar sequences may perform similar functions. Genes like these are called homologous genes. Or, more precisely, in our case, these would be orthologous genes (see the figure below). A pair of orthologous genes are genes from two related species originating from a common ancestor (e.g., humans and chimpanzees). Due to the evolution, the two nucleotide or protein sequences might differ slightly but not overwhelmingly.\n",
    "\n",
    "<div>\n",
    "<img src=\"https://upload.wikimedia.org/wikipedia/commons/thumb/d/d8/Ortholog_paralog_analog_%28homologs%29.svg/1200px-Ortholog_paralog_analog_%28homologs%29.svg.png\" width=\"500\">\n",
    "</div>\n",
    "\n",
    "*Author: Thomas Shafee, Licence: CC BY 4.0*\n",
    "\n",
    "The human-banana example demonstrates that these two organisms don't have to be that closely related! If we tried to determine the gene function in humans using bananas as a reference, we could infer the role of over 60% of the genes. However, using two closely related organisms would undoubtedly give us more robust results. We would be better off choosing the genome of a mouse or a chimpanzee as our reference.\n",
    "\n",
    "Scientists have studied hundreds of viruses and determined the functions of most of their genes. Using viruses similar in sequence to SARS-Cov-2, we can characterize the SARS-CoV-2 ORFs we found in our first homework and determine if they are the actual genes, and think about their function. Knowing what each gene does might help us find a way to fight the infection and potentially even find treatments for COVID-19. "
   ]
  },
  {
   "cell_type": "code",
   "execution_count": 1,
   "metadata": {},
   "outputs": [],
   "source": [
    "import numpy as np\n",
    "from Bio import Entrez\n",
    "from Bio import SeqIO\n",
    "import matplotlib.pyplot as plt"
   ]
  },
  {
   "cell_type": "code",
   "execution_count": 2,
   "metadata": {},
   "outputs": [],
   "source": [
    "# In order to import from the python file without hassle, we add the current\n",
    "# directory to the python path\n",
    "import sys; sys.path.append(\".\")"
   ]
  },
  {
   "cell_type": "markdown",
   "metadata": {},
   "source": [
    "Let's let the nice folks at NCBI know who we are."
   ]
  },
  {
   "cell_type": "code",
   "execution_count": 3,
   "metadata": {},
   "outputs": [],
   "source": [
    "Entrez.email = \"<mm9520@student.uni-lj.si\""
   ]
  },
  {
   "cell_type": "markdown",
   "metadata": {},
   "source": [
    "## Finding SARS-CoV-2's closest relatives\n",
    "\n",
    "In the first part of this assignment, we will analyze several coronavirus genomes to determine which are most similar to SARS-CoV-2. We will then use the viruses with the most similar sequence as reference genomes to assign functions to SARS-CoV-2 ORFs.\n",
    "\n",
    "To find the closest reference genomes, we will align the SARS-CoV-2 sequence to each candidate coronavirus genome. The virus genomes with the highest alignment scores will be our most closely-related viruses.\n",
    "\n",
    "Notice that computing an alignment between two sequences of length $N$ and $M$ requires the computation of a dynamic programming table with $N \\cdot M$ entries. The size of this matrix is sufficiently small for short sequences. But even the short genomes, like viral genomes, are generally too long for this approach. Instead of computing similarities from the entire genomes, we will only focus on the spike protein sequence. In general, we would prefer to align the whole nucleotide sequences, but for this assignment, considering only a spike protein will be sufficient. The spike protein is also one of the essential parts of any coronavirus, as it is the one that grants the virus entry to host cells. \n",
    "\n",
    "Considering spike proteins alone reduces the sequence lengths from ~30k (entire virus) to around 1.3k (spike protein). Nevertheless, do your best to write fast, efficient Python code. On the laptop of your teaching assistants, each `global_alignment` call on 1.3k long protein sequences takes around 30 to 60 seconds. We have to calculate 20 comparisons, which takes roughly 10 to 20 minutes."
   ]
  },
  {
   "cell_type": "code",
   "execution_count": 166,
   "metadata": {},
   "outputs": [],
   "source": [
    "accession_codes = {\n",
    "    # 6 known human coronaviruses\n",
    "    \"Human-SARS\": \"NC_004718\",\n",
    "    \"Human-MERS\": \"NC_019843\",\n",
    "    \"Human-HCoV-OC43\": \"NC_006213\",\n",
    "    \"Human-HCoV-229E\": \"NC_002645\",\n",
    "    \"Human-HCoV-NL63\": \"NC_005831\",\n",
    "    \"Human-HCoV-HKU1\": \"NC_006577\",\n",
    "    \n",
    "    # Bat\n",
    "    \"Bat-CoV MOP1\": \"EU420138\",\n",
    "    \"Bat-CoV HKU8\": \"NC_010438\",\n",
    "    \"Bat-CoV HKU2\": \"NC_009988\",\n",
    "    \"Bat-CoV HKU5\": \"NC_009020\",\n",
    "    \"Bat-CoV RaTG13\": \"MN996532\",\n",
    "    \"Bat-CoV-ENT\": \"NC_003045\",\n",
    "    \n",
    "    # Other animals\n",
    "    \"Hedgehog-CoV 2012-174/GER/2012\": \"NC_039207\",\n",
    "    \"Pangolin-CoV MP789\": \"MT121216\",\n",
    "    \"Rabbit-CoV HKU14\": \"NC_017083\",\n",
    "    \"Duck-CoV isolate DK/GD/27/2014\": \"NC_048214\",\n",
    "    \"Feline infectious peritonitis virus\": \"NC_002306\",  # cat\n",
    "    \"Giraffe-CoV US/OH3/2003\": \"EF424623\",\n",
    "    \"Murine-CoV MHV/BHKR_lab/USA/icA59_L94P/2012\": \"KF268338\",  # mouse\n",
    "    \"Equine-CoV Obihiro12-2\": \"LC061274\",  # horse\n",
    "}"
   ]
  },
  {
   "cell_type": "markdown",
   "metadata": {},
   "source": [
    "Above is the list of coronaviruses and their corresponding NCBI accession codes that we will consider in this assignment. As in the first assignment, you can find the SARS-CoV-2 sequence in `data/SARS-CoV-2.fa`. This time, we will use the FASTA format to familiarize ourselves with the sequence file formats used in bioinformatics. You can easily read FASTA files using the `SeqIO.read` function from `biopython`.\n",
    "\n",
    "We will only use part of the sequence, and to assess similarity, consider the spike protein alone. In the first homework, we have already narrowed down our candidates for the transmembrane proteins, and we will assume that we know the location of the spike protein in SARS-CoV-2 (strand=1, start=21562, stop=25384). We need to find a part of the sequence that encodes for the spike protein in all coronaviruses listed above. We can inspect each sequence's features to locate the spike protein. For this assignment, we will iterate through gene coding regions (CDS) for each coronavirus and find the one that codes for the \"S\" gene. Some coronaviruses do not include such annotation but instead report on a \"spike protein\" in the `product` field."
   ]
  },
  {
   "cell_type": "code",
   "execution_count": 167,
   "metadata": {},
   "outputs": [],
   "source": [
    "covid = SeqIO.read(\"./data/sars_cov_2.fa\", \"fasta\")\n",
    "sequences = {}\n",
    "for key, value in accession_codes.items():\n",
    "    with Entrez.efetch(db=\"nucleotide\", id=value, rettype=\"gbwithparts\", retmode=\"text\") as handle:\n",
    "        sequences[key] = SeqIO.read(handle, \"genbank\")"
   ]
  },
  {
   "cell_type": "code",
   "execution_count": 168,
   "metadata": {},
   "outputs": [],
   "source": [
    "spikes_nucleotide = {}\n",
    "for key, value in sequences.items():\n",
    "    for f in sequences[key].features:\n",
    "        if f.type == 'CDS':\n",
    "            try:\n",
    "                if f.qualifiers['product'][0] == \"spike protein\" or f.qualifiers['gene'][0] == 'S': spikes_nucleotide[key] = f\n",
    "            except:\n",
    "                pass"
   ]
  },
  {
   "cell_type": "code",
   "execution_count": 169,
   "metadata": {},
   "outputs": [],
   "source": [
    "from helper_functions import translate_to_protein\n",
    "\n",
    "spikes_aminoacids = {key: translate_to_protein(sequences[key].seq[value.location._start:value.location._end]) for key,value in spikes_nucleotide.items()}\n",
    "spike_covid = translate_to_protein(covid.seq[21562:25384])"
   ]
  },
  {
   "cell_type": "markdown",
   "metadata": {},
   "source": [
    "## Problem 1: Global alignment\n",
    "\n",
    "**Task:** Use the template `global_alignment` function in the file `helper_functions.py` and implement the Needleman-Wunsch algorithm for global sequence alignment. Use a \"-\" character for indels. Score the alignments using the BLOSUM62 substitution matrix. You can find it in `biopython`.\n",
    "\n",
    "**[10 points]**"
   ]
  },
  {
   "cell_type": "code",
   "execution_count": 19,
   "metadata": {},
   "outputs": [
    {
     "data": {
      "text/plain": [
       "('MLSCRLQCALAALSIVLALGCVT-GAPSDP-RLRQFLQKSLAAAAGKQELAK',\n",
       " 'FLAELLSEPNQTENDALEPEDLSQAAEQDEMRL-E-LQRS-ANSNPAMAPRE',\n",
       " -10.0)"
      ]
     },
     "execution_count": 19,
     "metadata": {},
     "output_type": "execute_result"
    }
   ],
   "source": [
    "from helper_functions import global_alignment\n",
    "\n",
    "# global_alignment(\"a\", 'bc', lambda x, y: [-1, 1][x == y])\n",
    "global_alignment( \"MLSCRLQCALAALSIVLALGCVTGAPSDPRLRQFLQKSLAAAAGKQELAK\", 'YFLAELLSEPNQTENDALEPEDLSQAAEQDEMRLELQRSANSNPAMAPRE', l)"
   ]
  },
  {
   "cell_type": "code",
   "execution_count": 4,
   "metadata": {},
   "outputs": [],
   "source": [
    "from Bio.Align import substitution_matrices\n",
    "from helper_functions import global_alignment\n",
    "\n",
    "sub_matrix = substitution_matrices.load(\"BLOSUM62\")\n",
    "\n",
    "ch = [\"A\", \"R\",  \"N\",  \"D\",  \"C\",  \"Q\",  \"E\",  \"G\",  \"H\",  \"I\",  \"L\",  \"K\",  \"M\" , \"F\",  \"P\",  \"S\",  \"T\",  \"W\",  \"Y\", \"V\",  \"B\",  \"Z\",  \"X\",  \"-\"]\n",
    "ch = {i: letter for i, letter in enumerate(ch)}\n",
    "all_possibilities = {(ch[l1], ch[l2]): sub_matrix[l1][l2] for l1 in range(sub_matrix.shape[0]) for l2 in range(sub_matrix.shape[1])}\n",
    "l = lambda x,y: all_possibilities[x,y]"
   ]
  },
  {
   "cell_type": "code",
   "execution_count": 5,
   "metadata": {},
   "outputs": [
    {
     "data": {
      "text/plain": [
       "{('A', 'A'): 4.0,\n",
       " ('A', 'R'): -1.0,\n",
       " ('A', 'N'): -2.0,\n",
       " ('A', 'D'): -2.0,\n",
       " ('A', 'C'): 0.0,\n",
       " ('A', 'Q'): -1.0,\n",
       " ('A', 'E'): -1.0,\n",
       " ('A', 'G'): 0.0,\n",
       " ('A', 'H'): -2.0,\n",
       " ('A', 'I'): -1.0,\n",
       " ('A', 'L'): -1.0,\n",
       " ('A', 'K'): -1.0,\n",
       " ('A', 'M'): -1.0,\n",
       " ('A', 'F'): -2.0,\n",
       " ('A', 'P'): -1.0,\n",
       " ('A', 'S'): 1.0,\n",
       " ('A', 'T'): 0.0,\n",
       " ('A', 'W'): -3.0,\n",
       " ('A', 'Y'): -2.0,\n",
       " ('A', 'V'): 0.0,\n",
       " ('A', 'B'): -2.0,\n",
       " ('A', 'Z'): -1.0,\n",
       " ('A', 'X'): 0.0,\n",
       " ('A', '-'): -4.0,\n",
       " ('R', 'A'): -1.0,\n",
       " ('R', 'R'): 5.0,\n",
       " ('R', 'N'): 0.0,\n",
       " ('R', 'D'): -2.0,\n",
       " ('R', 'C'): -3.0,\n",
       " ('R', 'Q'): 1.0,\n",
       " ('R', 'E'): 0.0,\n",
       " ('R', 'G'): -2.0,\n",
       " ('R', 'H'): 0.0,\n",
       " ('R', 'I'): -3.0,\n",
       " ('R', 'L'): -2.0,\n",
       " ('R', 'K'): 2.0,\n",
       " ('R', 'M'): -1.0,\n",
       " ('R', 'F'): -3.0,\n",
       " ('R', 'P'): -2.0,\n",
       " ('R', 'S'): -1.0,\n",
       " ('R', 'T'): -1.0,\n",
       " ('R', 'W'): -3.0,\n",
       " ('R', 'Y'): -2.0,\n",
       " ('R', 'V'): -3.0,\n",
       " ('R', 'B'): -1.0,\n",
       " ('R', 'Z'): 0.0,\n",
       " ('R', 'X'): -1.0,\n",
       " ('R', '-'): -4.0,\n",
       " ('N', 'A'): -2.0,\n",
       " ('N', 'R'): 0.0,\n",
       " ('N', 'N'): 6.0,\n",
       " ('N', 'D'): 1.0,\n",
       " ('N', 'C'): -3.0,\n",
       " ('N', 'Q'): 0.0,\n",
       " ('N', 'E'): 0.0,\n",
       " ('N', 'G'): 0.0,\n",
       " ('N', 'H'): 1.0,\n",
       " ('N', 'I'): -3.0,\n",
       " ('N', 'L'): -3.0,\n",
       " ('N', 'K'): 0.0,\n",
       " ('N', 'M'): -2.0,\n",
       " ('N', 'F'): -3.0,\n",
       " ('N', 'P'): -2.0,\n",
       " ('N', 'S'): 1.0,\n",
       " ('N', 'T'): 0.0,\n",
       " ('N', 'W'): -4.0,\n",
       " ('N', 'Y'): -2.0,\n",
       " ('N', 'V'): -3.0,\n",
       " ('N', 'B'): 3.0,\n",
       " ('N', 'Z'): 0.0,\n",
       " ('N', 'X'): -1.0,\n",
       " ('N', '-'): -4.0,\n",
       " ('D', 'A'): -2.0,\n",
       " ('D', 'R'): -2.0,\n",
       " ('D', 'N'): 1.0,\n",
       " ('D', 'D'): 6.0,\n",
       " ('D', 'C'): -3.0,\n",
       " ('D', 'Q'): 0.0,\n",
       " ('D', 'E'): 2.0,\n",
       " ('D', 'G'): -1.0,\n",
       " ('D', 'H'): -1.0,\n",
       " ('D', 'I'): -3.0,\n",
       " ('D', 'L'): -4.0,\n",
       " ('D', 'K'): -1.0,\n",
       " ('D', 'M'): -3.0,\n",
       " ('D', 'F'): -3.0,\n",
       " ('D', 'P'): -1.0,\n",
       " ('D', 'S'): 0.0,\n",
       " ('D', 'T'): -1.0,\n",
       " ('D', 'W'): -4.0,\n",
       " ('D', 'Y'): -3.0,\n",
       " ('D', 'V'): -3.0,\n",
       " ('D', 'B'): 4.0,\n",
       " ('D', 'Z'): 1.0,\n",
       " ('D', 'X'): -1.0,\n",
       " ('D', '-'): -4.0,\n",
       " ('C', 'A'): 0.0,\n",
       " ('C', 'R'): -3.0,\n",
       " ('C', 'N'): -3.0,\n",
       " ('C', 'D'): -3.0,\n",
       " ('C', 'C'): 9.0,\n",
       " ('C', 'Q'): -3.0,\n",
       " ('C', 'E'): -4.0,\n",
       " ('C', 'G'): -3.0,\n",
       " ('C', 'H'): -3.0,\n",
       " ('C', 'I'): -1.0,\n",
       " ('C', 'L'): -1.0,\n",
       " ('C', 'K'): -3.0,\n",
       " ('C', 'M'): -1.0,\n",
       " ('C', 'F'): -2.0,\n",
       " ('C', 'P'): -3.0,\n",
       " ('C', 'S'): -1.0,\n",
       " ('C', 'T'): -1.0,\n",
       " ('C', 'W'): -2.0,\n",
       " ('C', 'Y'): -2.0,\n",
       " ('C', 'V'): -1.0,\n",
       " ('C', 'B'): -3.0,\n",
       " ('C', 'Z'): -3.0,\n",
       " ('C', 'X'): -2.0,\n",
       " ('C', '-'): -4.0,\n",
       " ('Q', 'A'): -1.0,\n",
       " ('Q', 'R'): 1.0,\n",
       " ('Q', 'N'): 0.0,\n",
       " ('Q', 'D'): 0.0,\n",
       " ('Q', 'C'): -3.0,\n",
       " ('Q', 'Q'): 5.0,\n",
       " ('Q', 'E'): 2.0,\n",
       " ('Q', 'G'): -2.0,\n",
       " ('Q', 'H'): 0.0,\n",
       " ('Q', 'I'): -3.0,\n",
       " ('Q', 'L'): -2.0,\n",
       " ('Q', 'K'): 1.0,\n",
       " ('Q', 'M'): 0.0,\n",
       " ('Q', 'F'): -3.0,\n",
       " ('Q', 'P'): -1.0,\n",
       " ('Q', 'S'): 0.0,\n",
       " ('Q', 'T'): -1.0,\n",
       " ('Q', 'W'): -2.0,\n",
       " ('Q', 'Y'): -1.0,\n",
       " ('Q', 'V'): -2.0,\n",
       " ('Q', 'B'): 0.0,\n",
       " ('Q', 'Z'): 3.0,\n",
       " ('Q', 'X'): -1.0,\n",
       " ('Q', '-'): -4.0,\n",
       " ('E', 'A'): -1.0,\n",
       " ('E', 'R'): 0.0,\n",
       " ('E', 'N'): 0.0,\n",
       " ('E', 'D'): 2.0,\n",
       " ('E', 'C'): -4.0,\n",
       " ('E', 'Q'): 2.0,\n",
       " ('E', 'E'): 5.0,\n",
       " ('E', 'G'): -2.0,\n",
       " ('E', 'H'): 0.0,\n",
       " ('E', 'I'): -3.0,\n",
       " ('E', 'L'): -3.0,\n",
       " ('E', 'K'): 1.0,\n",
       " ('E', 'M'): -2.0,\n",
       " ('E', 'F'): -3.0,\n",
       " ('E', 'P'): -1.0,\n",
       " ('E', 'S'): 0.0,\n",
       " ('E', 'T'): -1.0,\n",
       " ('E', 'W'): -3.0,\n",
       " ('E', 'Y'): -2.0,\n",
       " ('E', 'V'): -2.0,\n",
       " ('E', 'B'): 1.0,\n",
       " ('E', 'Z'): 4.0,\n",
       " ('E', 'X'): -1.0,\n",
       " ('E', '-'): -4.0,\n",
       " ('G', 'A'): 0.0,\n",
       " ('G', 'R'): -2.0,\n",
       " ('G', 'N'): 0.0,\n",
       " ('G', 'D'): -1.0,\n",
       " ('G', 'C'): -3.0,\n",
       " ('G', 'Q'): -2.0,\n",
       " ('G', 'E'): -2.0,\n",
       " ('G', 'G'): 6.0,\n",
       " ('G', 'H'): -2.0,\n",
       " ('G', 'I'): -4.0,\n",
       " ('G', 'L'): -4.0,\n",
       " ('G', 'K'): -2.0,\n",
       " ('G', 'M'): -3.0,\n",
       " ('G', 'F'): -3.0,\n",
       " ('G', 'P'): -2.0,\n",
       " ('G', 'S'): 0.0,\n",
       " ('G', 'T'): -2.0,\n",
       " ('G', 'W'): -2.0,\n",
       " ('G', 'Y'): -3.0,\n",
       " ('G', 'V'): -3.0,\n",
       " ('G', 'B'): -1.0,\n",
       " ('G', 'Z'): -2.0,\n",
       " ('G', 'X'): -1.0,\n",
       " ('G', '-'): -4.0,\n",
       " ('H', 'A'): -2.0,\n",
       " ('H', 'R'): 0.0,\n",
       " ('H', 'N'): 1.0,\n",
       " ('H', 'D'): -1.0,\n",
       " ('H', 'C'): -3.0,\n",
       " ('H', 'Q'): 0.0,\n",
       " ('H', 'E'): 0.0,\n",
       " ('H', 'G'): -2.0,\n",
       " ('H', 'H'): 8.0,\n",
       " ('H', 'I'): -3.0,\n",
       " ('H', 'L'): -3.0,\n",
       " ('H', 'K'): -1.0,\n",
       " ('H', 'M'): -2.0,\n",
       " ('H', 'F'): -1.0,\n",
       " ('H', 'P'): -2.0,\n",
       " ('H', 'S'): -1.0,\n",
       " ('H', 'T'): -2.0,\n",
       " ('H', 'W'): -2.0,\n",
       " ('H', 'Y'): 2.0,\n",
       " ('H', 'V'): -3.0,\n",
       " ('H', 'B'): 0.0,\n",
       " ('H', 'Z'): 0.0,\n",
       " ('H', 'X'): -1.0,\n",
       " ('H', '-'): -4.0,\n",
       " ('I', 'A'): -1.0,\n",
       " ('I', 'R'): -3.0,\n",
       " ('I', 'N'): -3.0,\n",
       " ('I', 'D'): -3.0,\n",
       " ('I', 'C'): -1.0,\n",
       " ('I', 'Q'): -3.0,\n",
       " ('I', 'E'): -3.0,\n",
       " ('I', 'G'): -4.0,\n",
       " ('I', 'H'): -3.0,\n",
       " ('I', 'I'): 4.0,\n",
       " ('I', 'L'): 2.0,\n",
       " ('I', 'K'): -3.0,\n",
       " ('I', 'M'): 1.0,\n",
       " ('I', 'F'): 0.0,\n",
       " ('I', 'P'): -3.0,\n",
       " ('I', 'S'): -2.0,\n",
       " ('I', 'T'): -1.0,\n",
       " ('I', 'W'): -3.0,\n",
       " ('I', 'Y'): -1.0,\n",
       " ('I', 'V'): 3.0,\n",
       " ('I', 'B'): -3.0,\n",
       " ('I', 'Z'): -3.0,\n",
       " ('I', 'X'): -1.0,\n",
       " ('I', '-'): -4.0,\n",
       " ('L', 'A'): -1.0,\n",
       " ('L', 'R'): -2.0,\n",
       " ('L', 'N'): -3.0,\n",
       " ('L', 'D'): -4.0,\n",
       " ('L', 'C'): -1.0,\n",
       " ('L', 'Q'): -2.0,\n",
       " ('L', 'E'): -3.0,\n",
       " ('L', 'G'): -4.0,\n",
       " ('L', 'H'): -3.0,\n",
       " ('L', 'I'): 2.0,\n",
       " ('L', 'L'): 4.0,\n",
       " ('L', 'K'): -2.0,\n",
       " ('L', 'M'): 2.0,\n",
       " ('L', 'F'): 0.0,\n",
       " ('L', 'P'): -3.0,\n",
       " ('L', 'S'): -2.0,\n",
       " ('L', 'T'): -1.0,\n",
       " ('L', 'W'): -2.0,\n",
       " ('L', 'Y'): -1.0,\n",
       " ('L', 'V'): 1.0,\n",
       " ('L', 'B'): -4.0,\n",
       " ('L', 'Z'): -3.0,\n",
       " ('L', 'X'): -1.0,\n",
       " ('L', '-'): -4.0,\n",
       " ('K', 'A'): -1.0,\n",
       " ('K', 'R'): 2.0,\n",
       " ('K', 'N'): 0.0,\n",
       " ('K', 'D'): -1.0,\n",
       " ('K', 'C'): -3.0,\n",
       " ('K', 'Q'): 1.0,\n",
       " ('K', 'E'): 1.0,\n",
       " ('K', 'G'): -2.0,\n",
       " ('K', 'H'): -1.0,\n",
       " ('K', 'I'): -3.0,\n",
       " ('K', 'L'): -2.0,\n",
       " ('K', 'K'): 5.0,\n",
       " ('K', 'M'): -1.0,\n",
       " ('K', 'F'): -3.0,\n",
       " ('K', 'P'): -1.0,\n",
       " ('K', 'S'): 0.0,\n",
       " ('K', 'T'): -1.0,\n",
       " ('K', 'W'): -3.0,\n",
       " ('K', 'Y'): -2.0,\n",
       " ('K', 'V'): -2.0,\n",
       " ('K', 'B'): 0.0,\n",
       " ('K', 'Z'): 1.0,\n",
       " ('K', 'X'): -1.0,\n",
       " ('K', '-'): -4.0,\n",
       " ('M', 'A'): -1.0,\n",
       " ('M', 'R'): -1.0,\n",
       " ('M', 'N'): -2.0,\n",
       " ('M', 'D'): -3.0,\n",
       " ('M', 'C'): -1.0,\n",
       " ('M', 'Q'): 0.0,\n",
       " ('M', 'E'): -2.0,\n",
       " ('M', 'G'): -3.0,\n",
       " ('M', 'H'): -2.0,\n",
       " ('M', 'I'): 1.0,\n",
       " ('M', 'L'): 2.0,\n",
       " ('M', 'K'): -1.0,\n",
       " ('M', 'M'): 5.0,\n",
       " ('M', 'F'): 0.0,\n",
       " ('M', 'P'): -2.0,\n",
       " ('M', 'S'): -1.0,\n",
       " ('M', 'T'): -1.0,\n",
       " ('M', 'W'): -1.0,\n",
       " ('M', 'Y'): -1.0,\n",
       " ('M', 'V'): 1.0,\n",
       " ('M', 'B'): -3.0,\n",
       " ('M', 'Z'): -1.0,\n",
       " ('M', 'X'): -1.0,\n",
       " ('M', '-'): -4.0,\n",
       " ('F', 'A'): -2.0,\n",
       " ('F', 'R'): -3.0,\n",
       " ('F', 'N'): -3.0,\n",
       " ('F', 'D'): -3.0,\n",
       " ('F', 'C'): -2.0,\n",
       " ('F', 'Q'): -3.0,\n",
       " ('F', 'E'): -3.0,\n",
       " ('F', 'G'): -3.0,\n",
       " ('F', 'H'): -1.0,\n",
       " ('F', 'I'): 0.0,\n",
       " ('F', 'L'): 0.0,\n",
       " ('F', 'K'): -3.0,\n",
       " ('F', 'M'): 0.0,\n",
       " ('F', 'F'): 6.0,\n",
       " ('F', 'P'): -4.0,\n",
       " ('F', 'S'): -2.0,\n",
       " ('F', 'T'): -2.0,\n",
       " ('F', 'W'): 1.0,\n",
       " ('F', 'Y'): 3.0,\n",
       " ('F', 'V'): -1.0,\n",
       " ('F', 'B'): -3.0,\n",
       " ('F', 'Z'): -3.0,\n",
       " ('F', 'X'): -1.0,\n",
       " ('F', '-'): -4.0,\n",
       " ('P', 'A'): -1.0,\n",
       " ('P', 'R'): -2.0,\n",
       " ('P', 'N'): -2.0,\n",
       " ('P', 'D'): -1.0,\n",
       " ('P', 'C'): -3.0,\n",
       " ('P', 'Q'): -1.0,\n",
       " ('P', 'E'): -1.0,\n",
       " ('P', 'G'): -2.0,\n",
       " ('P', 'H'): -2.0,\n",
       " ('P', 'I'): -3.0,\n",
       " ('P', 'L'): -3.0,\n",
       " ('P', 'K'): -1.0,\n",
       " ('P', 'M'): -2.0,\n",
       " ('P', 'F'): -4.0,\n",
       " ('P', 'P'): 7.0,\n",
       " ('P', 'S'): -1.0,\n",
       " ('P', 'T'): -1.0,\n",
       " ('P', 'W'): -4.0,\n",
       " ('P', 'Y'): -3.0,\n",
       " ('P', 'V'): -2.0,\n",
       " ('P', 'B'): -2.0,\n",
       " ('P', 'Z'): -1.0,\n",
       " ('P', 'X'): -2.0,\n",
       " ('P', '-'): -4.0,\n",
       " ('S', 'A'): 1.0,\n",
       " ('S', 'R'): -1.0,\n",
       " ('S', 'N'): 1.0,\n",
       " ('S', 'D'): 0.0,\n",
       " ('S', 'C'): -1.0,\n",
       " ('S', 'Q'): 0.0,\n",
       " ('S', 'E'): 0.0,\n",
       " ('S', 'G'): 0.0,\n",
       " ('S', 'H'): -1.0,\n",
       " ('S', 'I'): -2.0,\n",
       " ('S', 'L'): -2.0,\n",
       " ('S', 'K'): 0.0,\n",
       " ('S', 'M'): -1.0,\n",
       " ('S', 'F'): -2.0,\n",
       " ('S', 'P'): -1.0,\n",
       " ('S', 'S'): 4.0,\n",
       " ('S', 'T'): 1.0,\n",
       " ('S', 'W'): -3.0,\n",
       " ('S', 'Y'): -2.0,\n",
       " ('S', 'V'): -2.0,\n",
       " ('S', 'B'): 0.0,\n",
       " ('S', 'Z'): 0.0,\n",
       " ('S', 'X'): 0.0,\n",
       " ('S', '-'): -4.0,\n",
       " ('T', 'A'): 0.0,\n",
       " ('T', 'R'): -1.0,\n",
       " ('T', 'N'): 0.0,\n",
       " ('T', 'D'): -1.0,\n",
       " ('T', 'C'): -1.0,\n",
       " ('T', 'Q'): -1.0,\n",
       " ('T', 'E'): -1.0,\n",
       " ('T', 'G'): -2.0,\n",
       " ('T', 'H'): -2.0,\n",
       " ('T', 'I'): -1.0,\n",
       " ('T', 'L'): -1.0,\n",
       " ('T', 'K'): -1.0,\n",
       " ('T', 'M'): -1.0,\n",
       " ('T', 'F'): -2.0,\n",
       " ('T', 'P'): -1.0,\n",
       " ('T', 'S'): 1.0,\n",
       " ('T', 'T'): 5.0,\n",
       " ('T', 'W'): -2.0,\n",
       " ('T', 'Y'): -2.0,\n",
       " ('T', 'V'): 0.0,\n",
       " ('T', 'B'): -1.0,\n",
       " ('T', 'Z'): -1.0,\n",
       " ('T', 'X'): 0.0,\n",
       " ('T', '-'): -4.0,\n",
       " ('W', 'A'): -3.0,\n",
       " ('W', 'R'): -3.0,\n",
       " ('W', 'N'): -4.0,\n",
       " ('W', 'D'): -4.0,\n",
       " ('W', 'C'): -2.0,\n",
       " ('W', 'Q'): -2.0,\n",
       " ('W', 'E'): -3.0,\n",
       " ('W', 'G'): -2.0,\n",
       " ('W', 'H'): -2.0,\n",
       " ('W', 'I'): -3.0,\n",
       " ('W', 'L'): -2.0,\n",
       " ('W', 'K'): -3.0,\n",
       " ('W', 'M'): -1.0,\n",
       " ('W', 'F'): 1.0,\n",
       " ('W', 'P'): -4.0,\n",
       " ('W', 'S'): -3.0,\n",
       " ('W', 'T'): -2.0,\n",
       " ('W', 'W'): 11.0,\n",
       " ('W', 'Y'): 2.0,\n",
       " ('W', 'V'): -3.0,\n",
       " ('W', 'B'): -4.0,\n",
       " ('W', 'Z'): -3.0,\n",
       " ('W', 'X'): -2.0,\n",
       " ('W', '-'): -4.0,\n",
       " ('Y', 'A'): -2.0,\n",
       " ('Y', 'R'): -2.0,\n",
       " ('Y', 'N'): -2.0,\n",
       " ('Y', 'D'): -3.0,\n",
       " ('Y', 'C'): -2.0,\n",
       " ('Y', 'Q'): -1.0,\n",
       " ('Y', 'E'): -2.0,\n",
       " ('Y', 'G'): -3.0,\n",
       " ('Y', 'H'): 2.0,\n",
       " ('Y', 'I'): -1.0,\n",
       " ('Y', 'L'): -1.0,\n",
       " ('Y', 'K'): -2.0,\n",
       " ('Y', 'M'): -1.0,\n",
       " ('Y', 'F'): 3.0,\n",
       " ('Y', 'P'): -3.0,\n",
       " ('Y', 'S'): -2.0,\n",
       " ('Y', 'T'): -2.0,\n",
       " ('Y', 'W'): 2.0,\n",
       " ('Y', 'Y'): 7.0,\n",
       " ('Y', 'V'): -1.0,\n",
       " ('Y', 'B'): -3.0,\n",
       " ('Y', 'Z'): -2.0,\n",
       " ('Y', 'X'): -1.0,\n",
       " ('Y', '-'): -4.0,\n",
       " ('V', 'A'): 0.0,\n",
       " ('V', 'R'): -3.0,\n",
       " ('V', 'N'): -3.0,\n",
       " ('V', 'D'): -3.0,\n",
       " ('V', 'C'): -1.0,\n",
       " ('V', 'Q'): -2.0,\n",
       " ('V', 'E'): -2.0,\n",
       " ('V', 'G'): -3.0,\n",
       " ('V', 'H'): -3.0,\n",
       " ('V', 'I'): 3.0,\n",
       " ('V', 'L'): 1.0,\n",
       " ('V', 'K'): -2.0,\n",
       " ('V', 'M'): 1.0,\n",
       " ('V', 'F'): -1.0,\n",
       " ('V', 'P'): -2.0,\n",
       " ('V', 'S'): -2.0,\n",
       " ('V', 'T'): 0.0,\n",
       " ('V', 'W'): -3.0,\n",
       " ('V', 'Y'): -1.0,\n",
       " ('V', 'V'): 4.0,\n",
       " ('V', 'B'): -3.0,\n",
       " ('V', 'Z'): -2.0,\n",
       " ('V', 'X'): -1.0,\n",
       " ('V', '-'): -4.0,\n",
       " ('B', 'A'): -2.0,\n",
       " ('B', 'R'): -1.0,\n",
       " ('B', 'N'): 3.0,\n",
       " ('B', 'D'): 4.0,\n",
       " ('B', 'C'): -3.0,\n",
       " ('B', 'Q'): 0.0,\n",
       " ('B', 'E'): 1.0,\n",
       " ('B', 'G'): -1.0,\n",
       " ('B', 'H'): 0.0,\n",
       " ('B', 'I'): -3.0,\n",
       " ('B', 'L'): -4.0,\n",
       " ('B', 'K'): 0.0,\n",
       " ('B', 'M'): -3.0,\n",
       " ('B', 'F'): -3.0,\n",
       " ('B', 'P'): -2.0,\n",
       " ('B', 'S'): 0.0,\n",
       " ('B', 'T'): -1.0,\n",
       " ('B', 'W'): -4.0,\n",
       " ('B', 'Y'): -3.0,\n",
       " ('B', 'V'): -3.0,\n",
       " ('B', 'B'): 4.0,\n",
       " ('B', 'Z'): 1.0,\n",
       " ('B', 'X'): -1.0,\n",
       " ('B', '-'): -4.0,\n",
       " ('Z', 'A'): -1.0,\n",
       " ('Z', 'R'): 0.0,\n",
       " ('Z', 'N'): 0.0,\n",
       " ('Z', 'D'): 1.0,\n",
       " ('Z', 'C'): -3.0,\n",
       " ('Z', 'Q'): 3.0,\n",
       " ('Z', 'E'): 4.0,\n",
       " ('Z', 'G'): -2.0,\n",
       " ('Z', 'H'): 0.0,\n",
       " ('Z', 'I'): -3.0,\n",
       " ('Z', 'L'): -3.0,\n",
       " ('Z', 'K'): 1.0,\n",
       " ('Z', 'M'): -1.0,\n",
       " ('Z', 'F'): -3.0,\n",
       " ('Z', 'P'): -1.0,\n",
       " ('Z', 'S'): 0.0,\n",
       " ('Z', 'T'): -1.0,\n",
       " ('Z', 'W'): -3.0,\n",
       " ('Z', 'Y'): -2.0,\n",
       " ('Z', 'V'): -2.0,\n",
       " ('Z', 'B'): 1.0,\n",
       " ('Z', 'Z'): 4.0,\n",
       " ('Z', 'X'): -1.0,\n",
       " ('Z', '-'): -4.0,\n",
       " ('X', 'A'): 0.0,\n",
       " ('X', 'R'): -1.0,\n",
       " ('X', 'N'): -1.0,\n",
       " ('X', 'D'): -1.0,\n",
       " ('X', 'C'): -2.0,\n",
       " ('X', 'Q'): -1.0,\n",
       " ('X', 'E'): -1.0,\n",
       " ('X', 'G'): -1.0,\n",
       " ('X', 'H'): -1.0,\n",
       " ('X', 'I'): -1.0,\n",
       " ('X', 'L'): -1.0,\n",
       " ('X', 'K'): -1.0,\n",
       " ('X', 'M'): -1.0,\n",
       " ('X', 'F'): -1.0,\n",
       " ('X', 'P'): -2.0,\n",
       " ('X', 'S'): 0.0,\n",
       " ('X', 'T'): 0.0,\n",
       " ('X', 'W'): -2.0,\n",
       " ('X', 'Y'): -1.0,\n",
       " ('X', 'V'): -1.0,\n",
       " ('X', 'B'): -1.0,\n",
       " ('X', 'Z'): -1.0,\n",
       " ('X', 'X'): -1.0,\n",
       " ('X', '-'): -4.0,\n",
       " ('-', 'A'): -4.0,\n",
       " ('-', 'R'): -4.0,\n",
       " ('-', 'N'): -4.0,\n",
       " ('-', 'D'): -4.0,\n",
       " ('-', 'C'): -4.0,\n",
       " ('-', 'Q'): -4.0,\n",
       " ('-', 'E'): -4.0,\n",
       " ('-', 'G'): -4.0,\n",
       " ('-', 'H'): -4.0,\n",
       " ('-', 'I'): -4.0,\n",
       " ('-', 'L'): -4.0,\n",
       " ('-', 'K'): -4.0,\n",
       " ('-', 'M'): -4.0,\n",
       " ('-', 'F'): -4.0,\n",
       " ('-', 'P'): -4.0,\n",
       " ('-', 'S'): -4.0,\n",
       " ('-', 'T'): -4.0,\n",
       " ('-', 'W'): -4.0,\n",
       " ('-', 'Y'): -4.0,\n",
       " ('-', 'V'): -4.0,\n",
       " ('-', 'B'): -4.0,\n",
       " ('-', 'Z'): -4.0,\n",
       " ('-', 'X'): -4.0,\n",
       " ('-', '-'): 1.0}"
      ]
     },
     "execution_count": 5,
     "metadata": {},
     "output_type": "execute_result"
    }
   ],
   "source": [
    "all_possibilities"
   ]
  },
  {
   "cell_type": "code",
   "execution_count": 171,
   "metadata": {},
   "outputs": [],
   "source": [
    "all_global_alignments = {}\n",
    "for s in spikes_aminoacids:\n",
    "    all_global_alignments[s] = global_alignment(spikes_aminoacids[s], spike_covid, l)"
   ]
  },
  {
   "cell_type": "code",
   "execution_count": 172,
   "metadata": {},
   "outputs": [
    {
     "data": {
      "text/plain": [
       "[(1087.0, 'Bat-CoV MOP1'),\n",
       " (1091.0, 'Bat-CoV HKU2'),\n",
       " (1101.0, 'Human-HCoV-229E'),\n",
       " (1124.0, 'Duck-CoV isolate DK/GD/27/2014'),\n",
       " (1150.0, 'Feline infectious peritonitis virus'),\n",
       " (1153.0, 'Bat-CoV HKU8'),\n",
       " (1158.0, 'Human-HCoV-NL63'),\n",
       " (1544.0, 'Human-HCoV-HKU1'),\n",
       " (1575.0, 'Equine-CoV Obihiro12-2'),\n",
       " (1617.0, 'Human-HCoV-OC43'),\n",
       " (1623.0, 'Giraffe-CoV US/OH3/2003'),\n",
       " (1629.0, 'Bat-CoV-ENT'),\n",
       " (1653.0, 'Rabbit-CoV HKU14'),\n",
       " (1694.0, 'Hedgehog-CoV 2012-174/GER/2012'),\n",
       " (1719.0, 'Murine-CoV MHV/BHKR_lab/USA/icA59_L94P/2012'),\n",
       " (1739.0, 'Human-MERS'),\n",
       " (1797.0, 'Bat-CoV HKU5'),\n",
       " (5246.0, 'Human-SARS'),\n",
       " (6085.0, 'Pangolin-CoV MP789'),\n",
       " (6539.0, 'Bat-CoV RaTG13')]"
      ]
     },
     "execution_count": 172,
     "metadata": {},
     "output_type": "execute_result"
    }
   ],
   "source": [
    "scores = sorted([(v[2], k) for k,v in all_global_alignments.items()])\n",
    "scores"
   ]
  },
  {
   "cell_type": "markdown",
   "metadata": {},
   "source": [
    "## Problem 2: Choosing our reference genomes\n",
    "\n",
    "**Task:** Identify the three closest relatives to SARS-CoV-2. Use the `global_alignment` function you have just implemented, inspect their alignment scores, and select the three most similar sequences to our spike protein sequence. These will serve as reference genomes in Problem 4 of this assignment and help us determine the function of ORFs.\n",
    "\n",
    "Save the full names of three coronaviruses with the closest matches to SARS-CoV-2's spike protein sequence as a Python list in the `three_closest_references` variable.\n",
    "\n",
    "**[5 points]**"
   ]
  },
  {
   "cell_type": "code",
   "execution_count": 173,
   "metadata": {},
   "outputs": [],
   "source": [
    "three_closest_references = [  # Enter the three most closely-related viruses\n",
    "    'Bat-CoV RaTG13',\n",
    "    'Pangolin-CoV MP789',\n",
    "    'Human-SARS',\n",
    "]"
   ]
  },
  {
   "cell_type": "markdown",
   "metadata": {},
   "source": [
    "## MiniBLAST\n",
    "\n",
    "In the previous homework, your task was to find ORF candidates, which we then classified into transmembrane/non-transmembrane proteins using a naive approach based on hydrophobicity. A far more sophisticated approach for characterizing any genetic sequence is BLAST. BLAST stores a database of annotated genes (usually from various organisms) and then uses local alignment and heuristic search to find database genes with a similar sequence to a query one. Assuming that genes with similar protein sequences perform similar functions, we can infer the function of a query sequence by looking at the function of any matching genes returned by BLAST. It is also possible that BLAST will not find suitable matches, which may signal that a sequence might not be an actual gene or protein. In this problem, we will implement our simplified BLAST version and call it MiniBLAST. We will use MiniBLAST to determine whether each of our candidate ORFs is a gene. And if it is a gene, we will use the annotations to determine what the gene does.\n",
    "\n",
    "Please note that BLAST is a complicated, optimized, heuristic, state-of-the-art technique to obtain very good approximate solutions. BLAST can query thousands of sequences in seconds. Our implementation will be slightly less sophisticated and somewhat more constrained but conceptually similar to that of BLAST.\n",
    "\n",
    "## Problem 3: Local alignment\n",
    "\n",
    "**Task:** Use the template`local_alignment` function in `helper_functions.py` and implement the Smith-Waterman algorithm for local sequence alignment.\n",
    "\n",
    "**[10 points]**"
   ]
  },
  {
   "cell_type": "code",
   "execution_count": 174,
   "metadata": {},
   "outputs": [],
   "source": [
    "from helper_functions import local_alignment"
   ]
  },
  {
   "cell_type": "markdown",
   "metadata": {},
   "source": [
    "## Problem 4: Finding homologous genes\n",
    "\n",
    "For this assignment, we have selected five promising SARS-CoV-2 ORFs we found in our first homework. "
   ]
  },
  {
   "cell_type": "code",
   "execution_count": 175,
   "metadata": {},
   "outputs": [],
   "source": [
    "orf_candidates = {\n",
    "    \"ORF-1\": (1, 11995, 13483),\n",
    "    \"ORF-2\": (1, 26792, 27191),\n",
    "    \"ORF-3\": (1, 23650, 25384),\n",
    "    \"ORF-4\": (-1, 421, 667),\n",
    "    \"ORF-5\": (1, 9133, 13483),\n",
    "}"
   ]
  },
  {
   "cell_type": "code",
   "execution_count": 176,
   "metadata": {},
   "outputs": [],
   "source": [
    "cds = {}\n",
    "for r in three_closest_references:\n",
    "    cds[r] = []\n",
    "    for f in sequences[r].features:\n",
    "        if f.type == 'CDS':\n",
    "            cds[r].append((f.qualifiers['translation'][0], f.qualifiers['product'][0]))\n",
    "\n",
    "# cds"
   ]
  },
  {
   "cell_type": "code",
   "execution_count": 177,
   "metadata": {},
   "outputs": [],
   "source": [
    "covid_orfs = {}\n",
    "for key, value in orf_candidates.items():\n",
    "    covid_orfs[key] = translate_to_protein(covid.seq[value[1]:value[2]]) if value[0] == 1 else translate_to_protein(covid.seq.reverse_complement()[len(covid) - value[2] : len(covid) - value[1]])"
   ]
  },
  {
   "cell_type": "code",
   "execution_count": 178,
   "metadata": {},
   "outputs": [
    {
     "name": "stdout",
     "output_type": "stream",
     "text": [
      "ORF-1\n",
      "2553.0\n",
      "ORF-2\n",
      "678.0\n",
      "ORF-3\n",
      "2999.0\n",
      "ORF-4\n",
      "61.0\n",
      "ORF-5\n",
      "7569.0\n"
     ]
    }
   ],
   "source": [
    "candidates = {}\n",
    "for orf_name, covid_orf in covid_orfs.items():\n",
    "    print(orf_name)\n",
    "    max_score = 0\n",
    "    c_organism = \"\"\n",
    "    h_gene = \"\"\n",
    "    for candidate_name, candidate in cds.items():\n",
    "        for protein in candidate:\n",
    "            _, _, score = local_alignment(covid_orf, protein[0], l)\n",
    "            if score > max_score:\n",
    "                max_score = score\n",
    "                c_organism = candidate_name\n",
    "                h_gene = protein[1]\n",
    "    print(max_score)\n",
    "    candidates[orf_name] = {\"closest-organism\": c_organism, \"homologous-gene\": h_gene}"
   ]
  },
  {
   "cell_type": "markdown",
   "metadata": {},
   "source": [
    "We will now use MiniBLAST to compare these ORFs to known, annotated genes from the three closely-related coronaviruses you have stored in `three_closest_references`. The goal is to find the best matching gene from the reference genomes and decide if the quality of the match is sufficient to claim that ORF is an actual gene. \n",
    "\n",
    "Hint: among the five ORFs included in the candidates, we have planted one that is not a true gene.\n",
    "\n",
    "**Task:** We start by building a reference database. For each of the three closely-related coronaviruses from Problem 2, extract the coding regions (CDS) from each genome, and convert them to protein sequences. Store the name of the virus each protein sequence came from and its function. In our case, the gene's function is evident from its name, e.g., \"spike protein\", \"ORF1ab\", and similar. Given `orf_candidates`, compute the local alignment to each protein sequence in our database. Inspect each alignment and its corresponding score, and decide whether the alignment is sufficiently good to assume they perform the same function.\n",
    "\n",
    "Save your answers into the `orf_matches` variable as indicated in the cell below. Each ORF should be assigned a *closest-organism*, reporting the reference virus with the closest match, and a *homologous-gene*, indicating which gene the ORF matched to. For ORFs with no match in the reference, use None for both fields.\n",
    "\n",
    "**[10 points]**"
   ]
  },
  {
   "cell_type": "code",
   "execution_count": 179,
   "metadata": {},
   "outputs": [],
   "source": [
    "orf_matches = {\n",
    "    \"ORF-1\": {\n",
    "        # These are just example solutions. You have to replace them with the correct answers\n",
    "        \"closest-organism\": \"Bat-CoV RaTG13\", \n",
    "        \"homologous-gene\": \"orf1ab polyprotein\",\n",
    "    },\n",
    "    \"ORF-2\": {\n",
    "        \"closest-organism\": \"Bat-CoV RaTG13\",\n",
    "        \"homologous-gene\": \"membrane protein\",\n",
    "    },\n",
    "    \"ORF-3\": {\n",
    "        \"closest-organism\": \"Bat-CoV RaTG13\",\n",
    "        \"homologous-gene\": \"spike glycoprotein\",\n",
    "    },\n",
    "    \"ORF-4\": {\n",
    "        \"closest-organism\": None,\n",
    "        \"homologous-gene\": None,\n",
    "    },\n",
    "    \"ORF-5\": {\n",
    "        \"closest-organism\": \"Bat-CoV RaTG13\",\n",
    "        \"homologous-gene\": \"orf1ab polyprotein\",\n",
    "    },\n",
    "}"
   ]
  },
  {
   "cell_type": "markdown",
   "metadata": {},
   "source": [
    "## Problem 5: Repurposing SARS-CoV drug treatments for SARS-CoV-2\n",
    "\n",
    "You might have noticed that the coronavirus we've been working with ends with the number 2. That means there must have been a SARS-CoV-1 at some point, right? Indeed there was. The SARS-CoV-1 virus caused a SARS outbreak in 2002-2004 and infected over 8,000 people from 29 countries, killing at least 774 people. These may seem like small numbers today, but at the time, the outbreak caused much panic because the virus had a much higher mortality rate than SARS-CoV-2. \n",
    "\n",
    "Several drugs were developed and tested for the treatment of SARS. Some proved effective. Since SARS-CoV-2 is closely related to SARS-CoV-1, we could repurpose some effective drugs for SARS-CoV-1. We will look at one drug in particular: EK1 binds to a specific region on the SARS-CoV-1 spike protein and prevents the virus from entering the cells, thus stopping the infection and, consequently, the spread of the virus. Assuming the spike protein in SARS-CoV-2 is similar enough to the spike protein in SARS-CoV-1, EK1 may be able to bind to the SARS-CoV-2 spike protein and subsequently stop the infection.\n",
    "\n",
    "EK1 recognizes a specific sequence (or motif) of aminoacid types: **_hpphcpc_** where **_h_** is a hydrophobic, **_p_** is a polar, and **_c_** is a charged amino acid. There are approximately six consecutive repeats of this motif in SARS-CoV-1, so we expect to find a similar pattern in the SARS-CoV-2 spike protein. The individual amino acid types in this motif are not equally important for the successful binding of EK1. For instance, it is much more important for the **_h_** amino acids to be in the correct spots than the **_p_** or **_c_** amino acids. It is also critical that none of the amino acids are missing in the spike protein, as this will prevent binding.\n",
    "\n",
    "Aminoacids and their corresponding types (**_h_**, **_p_**, or **_c_**) are provided in `data/aminoacid_properties.csv`.\n",
    "\n",
    "**Task:** Determine whether EK1 can bind to the SARS-CoV-2 spike protein. Based on the description of how EK1 binds to the spike protein in the paragraphs above, design a scoring function that will appropriately weigh amino acid matches/mismatches. Then, perform local alignment between the SARS-CoV-1 spike protein sequence and the EK1 target motif (**_hpphcpc_** repeated six times). Since EK1 was developed for SARS-CoV-1, we know there should be a valid binding motif somewhere along the SARS-CoV-1 spike protein. Use this fact to calibrate your scoring function. Can we find an EK1 binding motif in the SARS-CoV-2 spike protein? Plot the positions of the best alignments in both viruses. For each virus, plot a horizontal line representing the spike protein sequence and a bar indicating the location of the EK1 binding motif. Ensure the two genomes are aligned to see whether the binding motifs appear in the same general regions of the spike protein. Save your figure into `problem5.png`.\n",
    "\n",
    "Does SARS-CoV-2 contain the EK1 binding motif? Are SARS-CoV-1 and SARS-CoV-2 motifs comparable? Briefly write your comments in the `drug_comments` variable and use at most three sentences.\n",
    "\n",
    "*Hint*: Our task is to design a scoring function that reflects the underlying process of binding EK1 to the spike protein. For instance, since no amino acids must be missing from the spike protein sequence, we can design our scoring function to disallow any indels in our alignment. We can achieve this by heavily penalizing indels. Similarly, if we know hydrophobic matches are more important than polar or charged matches, we can appropriately weigh matches and penalize mismatches between these types of proteins.\n",
    "\n",
    "**[5 points]**"
   ]
  },
  {
   "cell_type": "code",
   "execution_count": 180,
   "metadata": {},
   "outputs": [],
   "source": [
    "import csv\n",
    "\n",
    "with open(\"data/aminoacid_properties.csv\", 'r') as file:\n",
    "    csvreader = csv.reader(file)\n",
    "    types = {v[0]: v[2] for v in csvreader}\n",
    "# types"
   ]
  },
  {
   "cell_type": "code",
   "execution_count": 181,
   "metadata": {},
   "outputs": [],
   "source": [
    "def aminoacids_to_type(aminoacid):\n",
    "    return ''.join([types[a] for a in aminoacid])"
   ]
  },
  {
   "cell_type": "code",
   "execution_count": 182,
   "metadata": {},
   "outputs": [],
   "source": [
    "cov2_types = aminoacids_to_type(spike_covid)\n",
    "cov1_types = aminoacids_to_type(spikes_aminoacids[\"Human-SARS\"])"
   ]
  },
  {
   "cell_type": "code",
   "execution_count": 183,
   "metadata": {},
   "outputs": [
    {
     "data": {
      "text/plain": [
       "'hhhhhhhhphpphpchccppphcchphpphppcppphchhhhpcchhcpcphhhppchhhphhpphphhcphpcphhpphhphcchhhhhhpccpphhchhhhhpphppcppphhhhppppphhhchpphchpcpphhhhpcphhpppcphhhcphhppphchhpchhphchpccphphcchcchhhcpcchhhhhhchhpphchhcchpphhpphcphhchphhhphpphchhhphhpphpchhhpphhhhhhhhhcppphhhchccphphpchhcppppphhchcpphcphchcchhhpppphchhpphchhchpphpphpphhchhphpchpphhhhcccchppphhchphhhppphhpphcphhhphpchpchphpphhhcphhhchcchcphhphpphhhhchphchpcchhhphhhhppcphchppphphphchchhcchchcphccchpphphppchcppppphhpphhphpchhhhppphhhhpphchhhhphchhphphphphpchppchhcppphphphphhphphhhppppcchpphpphhcchpchpcphccpcppchhchppphhhhhphhpphpphppchhhhhpchpppchpphhchcphpphhchhpphpphhppphhphhhhcchcpphcpchphhhhhphphcphphhcppppcphhhhphphhhcpphhhpppphhhppphphphppchhphphhcpphcpphhhphcppcphphhhphhphppphpchhphhhhcpccppcchhhphcphhcppphchhhhhphpphhpcphcppccphhcchhhpchphhchhhhcphhcphhchphcchhphpchphhphhpphhpcchhhhhphhhhphphphhhphhhhhhhphphhhphhhchphhhhppphhhcppcphhpphpchhpphpcphppppphhhchpchhppphphhpphhcphppphhhhpphhpchhpchcchchchphcchhphchpphpphhppphhchhchchphphhhpchpcphhhppcchchphchhchhphpphhpchhhhhchphhpppccphpphphhpcchchhhpcchhhhhphpphhhppcphhppphhppcpphhphppchhhhhhppphhcphppchcphccchcchhcpcpppchchhchphhphphhphpcchcchpchhcphpcphhchpchhchcphhchphhhhhhhhhhhhhhhhhphhhpphpppppphchhppphpppchccccpcphhchhchchp'"
      ]
     },
     "execution_count": 183,
     "metadata": {},
     "output_type": "execute_result"
    }
   ],
   "source": [
    "cov1_types"
   ]
  },
  {
   "cell_type": "code",
   "execution_count": 184,
   "metadata": {},
   "outputs": [],
   "source": [
    "matrix = np.array([\n",
    "        [-100,-100,-100,-100],\n",
    "        [-100, 6, -3, -3],\n",
    "        [-100, -3, 4, -1],\n",
    "        [-100, -3, -1, 4]])\n",
    "ch2 = {0: '-', 1: \"h\", 2: \"p\", 3: \"c\"}\n",
    "all_possibilities2 = {(ch2[l1], ch2[l2]): matrix[l1][l2] for l1 in range(matrix.shape[0]) for l2 in range(matrix.shape[1])}\n",
    "l2 = lambda x,y: all_possibilities2[x,y]\n",
    "target_motif = \"hpphcpchpphcpchpphcpchpphcpchpphcpchpphcpc\""
   ]
  },
  {
   "cell_type": "code",
   "execution_count": 185,
   "metadata": {},
   "outputs": [
    {
     "data": {
      "text/plain": [
       "('hpphcpchpphcpchpphcpchpphcpchpphcpchpph',\n",
       " 'hpphhchhpphpphhppphhphhhhcchcpphcpchphh',\n",
       " 79.0)"
      ]
     },
     "execution_count": 185,
     "metadata": {},
     "output_type": "execute_result"
    }
   ],
   "source": [
    "local_alignment(target_motif, \"hpphhchhpphpphhppphhphhhhcchcpphcpchphh\", l2)"
   ]
  },
  {
   "cell_type": "code",
   "execution_count": 186,
   "metadata": {},
   "outputs": [
    {
     "data": {
      "text/plain": [
       "('hphhpphhcphppphhhhpphhpchhpchcchchchp',\n",
       " 'hpphcpchpphcpchpphcpchpphcpchpphcpchp',\n",
       " 81.0)"
      ]
     },
     "execution_count": 186,
     "metadata": {},
     "output_type": "execute_result"
    }
   ],
   "source": [
    "local_alignment(cov1_types, target_motif, l2)"
   ]
  },
  {
   "cell_type": "code",
   "execution_count": 187,
   "metadata": {},
   "outputs": [
    {
     "data": {
      "text/plain": [
       "('hphhpphhcphppphhhhpphhpchhpchcchchchp',\n",
       " 'hpphcpchpphcpchpphcpchpphcpchpphcpchp',\n",
       " 81.0)"
      ]
     },
     "execution_count": 187,
     "metadata": {},
     "output_type": "execute_result"
    }
   ],
   "source": [
    "local_alignment(cov2_types, target_motif, l2)"
   ]
  },
  {
   "cell_type": "code",
   "execution_count": 188,
   "metadata": {},
   "outputs": [
    {
     "data": {
      "text/plain": [
       "42"
      ]
     },
     "execution_count": 188,
     "metadata": {},
     "output_type": "execute_result"
    }
   ],
   "source": [
    "len(\"hphhpphhcphppphhhhpphhpchhpchcchchchp\")\n",
    "len(\"hphhpphhcphppphhhhpphhpchhpchcchchchphcchh\")"
   ]
  },
  {
   "cell_type": "code",
   "execution_count": 189,
   "metadata": {},
   "outputs": [
    {
     "name": "stderr",
     "output_type": "stream",
     "text": [
      "C:\\Users\\Matej\\AppData\\Local\\Temp\\ipykernel_6724\\3401276867.py:1: MatplotlibDeprecationWarning: The seaborn styles shipped by Matplotlib are deprecated since 3.6, as they no longer correspond to the styles shipped by seaborn. However, they will remain available as 'seaborn-v0_8-<style>'. Alternatively, directly use the seaborn API instead.\n",
      "  plt.style.use('seaborn-darkgrid')\n"
     ]
    },
    {
     "data": {
      "image/png": "[encoded data removed]",
      "text/plain": [
       "<Figure size 600x200 with 1 Axes>"
      ]
     },
     "metadata": {},
     "output_type": "display_data"
    }
   ],
   "source": [
    "plt.style.use('seaborn-darkgrid')\n",
    "plt.rcParams[\"figure.figsize\"] = (6,2)\n",
    "plt.hlines([0,1], 0, [len(cov1_types), len(cov2_types)], label=\"Spike protein sequence\")\n",
    "plt.yticks([0,1], [\"SARS-CoV-1\", \"SARS-CoV-2\"])\n",
    "plt.ylabel(\"Virus\")\n",
    "plt.xlabel(\"Sequence\")\n",
    "plt.barh([0,1], width=[42,42], left=[937, 955], height=0.4, color=\"green\", label=\"Binding motif\")\n",
    "plt.ylim([-1,2])\n",
    "plt.legend()\n",
    "plt.savefig(\"problem5.png\")\n",
    "# plt.barh([0,1], width=[300,300])"
   ]
  },
  {
   "cell_type": "code",
   "execution_count": 190,
   "metadata": {},
   "outputs": [],
   "source": [
    "drug_comments = \"\"\"We found the same sequence in both spike proteins that align with our target motif. This means that most likely the SARS-CoV-2 virus contains the EK1 binding motif.\n",
    "\"\"\""
   ]
  },
  {
   "cell_type": "markdown",
   "metadata": {},
   "source": [
    "## Bonus Problem: Finding homologous genes with (slightly more) distant viruses\n",
    "\n",
    "In Problem 4, we were able to find very good matches for most of our ORFs. Our reference genomes were very closely related to SARS-CoV-2. In this bonus problem, we will check if we can still characterize these ORFs using three less-related reference virus genomes: Human-MERS, Bat-CoV HKU5, and Hedgehog-CoV 2012-174/GER/2012. Report your predictions in the `orf_bonus_matches` variable. Additionally, you should report how confident you are in each prediction. Use your creativity to score your confidence in each alignment. Write your justifications and other observations to the `orf_bonus_comments` variable.\n",
    "\n",
    "**[5 points]**"
   ]
  },
  {
   "cell_type": "code",
   "execution_count": 191,
   "metadata": {},
   "outputs": [],
   "source": [
    "less_related_references = [\"Human-MERS\", \"Bat-CoV HKU5\", \"Hedgehog-CoV 2012-174/GER/2012\"]"
   ]
  },
  {
   "cell_type": "code",
   "execution_count": 192,
   "metadata": {},
   "outputs": [],
   "source": [
    "cds = {}\n",
    "for r in less_related_references:\n",
    "    cds[r] = []\n",
    "    for f in sequences[r].features:\n",
    "        if f.type == 'CDS':\n",
    "            cds[r].append((f.qualifiers['translation'][0], f.qualifiers['product'][0]))"
   ]
  },
  {
   "cell_type": "code",
   "execution_count": 193,
   "metadata": {},
   "outputs": [],
   "source": [
    "covid_orfs = {}\n",
    "for key, value in orf_candidates.items():\n",
    "    covid_orfs[key] = translate_to_protein(covid.seq[value[1]:value[2]]) if value[0] == 1 else translate_to_protein(covid.seq.reverse_complement()[len(covid) - value[2] : len(covid) - value[1]])"
   ]
  },
  {
   "cell_type": "code",
   "execution_count": 194,
   "metadata": {},
   "outputs": [
    {
     "name": "stdout",
     "output_type": "stream",
     "text": [
      "ORF-1\n",
      "1419.0\n",
      "ORF-2\n",
      "322.0\n",
      "ORF-3\n",
      "1292.0\n",
      "ORF-4\n",
      "59.0\n",
      "ORF-5\n",
      "3682.0\n"
     ]
    }
   ],
   "source": [
    "candidates = {}\n",
    "for orf_name, covid_orf in covid_orfs.items():\n",
    "    print(orf_name)\n",
    "    max_score = 0\n",
    "    c_organism = \"\"\n",
    "    h_gene = \"\"\n",
    "    for candidate_name, candidate in cds.items():\n",
    "        for protein in candidate:\n",
    "            _, _, score = local_alignment(covid_orf, protein[0], l)\n",
    "            if score > max_score:\n",
    "                max_score = score\n",
    "                c_organism = candidate_name\n",
    "                h_gene = protein[1]\n",
    "    print(max_score)\n",
    "    candidates[orf_name] = {\"closest-organism\": c_organism, \"homologous-gene\": h_gene}"
   ]
  },
  {
   "cell_type": "code",
   "execution_count": 195,
   "metadata": {},
   "outputs": [
    {
     "data": {
      "text/plain": [
       "{'ORF-1': {'closest-organism': 'Hedgehog-CoV 2012-174/GER/2012',\n",
       "  'homologous-gene': 'ORF1ab polyprotein'},\n",
       " 'ORF-2': {'closest-organism': 'Human-MERS',\n",
       "  'homologous-gene': 'membrane protein'},\n",
       " 'ORF-3': {'closest-organism': 'Human-MERS',\n",
       "  'homologous-gene': 'spike protein'},\n",
       " 'ORF-4': {'closest-organism': 'Human-MERS',\n",
       "  'homologous-gene': '1AB polyprotein'},\n",
       " 'ORF-5': {'closest-organism': 'Human-MERS',\n",
       "  'homologous-gene': '1AB polyprotein'}}"
      ]
     },
     "execution_count": 195,
     "metadata": {},
     "output_type": "execute_result"
    }
   ],
   "source": [
    "candidates"
   ]
  },
  {
   "cell_type": "code",
   "execution_count": 196,
   "metadata": {},
   "outputs": [],
   "source": [
    "orf_bonus_matches = {\n",
    "    \"ORF-1\": {\n",
    "        # These are just example solutions. You have to replace them with the correct answers\n",
    "        \"closest-organism\": \"Hedgehog-CoV 2012-174/GER/2012\", \n",
    "        \"homologous-gene\": \"ORF1ab polyprotein\",\n",
    "        \"confidence\": 4  # not confident: 1 -- 5 : completely confident\n",
    "    },\n",
    "    \"ORF-2\": {\n",
    "        \"closest-organism\": \"Human-MERS\",\n",
    "        \"homologous-gene\": \"membrane protein\",\n",
    "        \"confidence\": 2\n",
    "    },\n",
    "    \"ORF-3\": {\n",
    "        \"closest-organism\": \"Human-MERS\",\n",
    "        \"homologous-gene\": \"spike protein\",\n",
    "        \"confidence\": 3\n",
    "    },\n",
    "    \"ORF-4\": {\n",
    "        \"closest-organism\": \"Human-MERS\",\n",
    "        \"homologous-gene\": \"1AB polyprotein\",\n",
    "        \"confidence\": 1\n",
    "    },\n",
    "    \"ORF-5\": {\n",
    "        \"closest-organism\": \"Human-MERS\",\n",
    "        \"homologous-gene\": \"1AB polyprotein\",\n",
    "        \"confidence\": 5\n",
    "    },\n",
    "}\n",
    "orf_bonus_comments = \"\"\"\n",
    "The most scored alignment and the least scored ORF were most similar to Human-MERS 1AB polyprotein.\n",
    "\"\"\""
   ]
  }
 ],
 "metadata": {
  "kernelspec": {
   "display_name": "Python 3.9.13 ('bio')",
   "language": "python",
   "name": "python3"
  },
  "language_info": {
   "codemirror_mode": {
    "name": "ipython",
    "version": 3
   },
   "file_extension": ".py",
   "mimetype": "text/x-python",
   "name": "python",
   "nbconvert_exporter": "python",
   "pygments_lexer": "ipython3",
   "version": "3.9.13 (main, Oct 13 2022, 21:23:06) [MSC v.1916 64 bit (AMD64)]"
  },
  "vscode": {
   "interpreter": {
    "hash": "dbd29c2dd84e753391c02664cbadff612ea338247f6b9ae11b64ff0fb48f5caf"
   }
  }
 },
 "nbformat": 4,
 "nbformat_minor": 4
}
